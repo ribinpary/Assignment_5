{
 "cells": [
  {
   "cell_type": "code",
   "execution_count": 7,
   "id": "4b8bf1d1",
   "metadata": {},
   "outputs": [
    {
     "name": "stdout",
     "output_type": "stream",
     "text": [
      "Enter the value of x: 1\n",
      "Enter the value of y: 3\n",
      "Enter the value of z: 5\n",
      "Method Output: 35\n"
     ]
    }
   ],
   "source": [
    "#CHALLENGE 1\n",
    "\n",
    "class Point:\n",
    "    def __init__(self,x=int(input(\"Enter the value of x: \")),y=int(input(\"Enter the value of y: \")),z=int(input(\"Enter the value of z: \"))):\n",
    "        self.x = x\n",
    "        self.y = y\n",
    "        self.z = z\n",
    "\n",
    "    def sqSum(self):\n",
    "        return self.x**2+self.y**2+self.z**2\n",
    "\n",
    "point=Point()\n",
    "result=point.sqSum()\n",
    "print(\"Method Output:\",result)"
   ]
  },
  {
   "cell_type": "code",
   "execution_count": 7,
   "id": "6f0a7538",
   "metadata": {},
   "outputs": [
    {
     "name": "stdout",
     "output_type": "stream",
     "text": [
      "104\n",
      "84\n",
      "940\n",
      "9.4\n"
     ]
    }
   ],
   "source": [
    "#CHALLENGE 2\n",
    "\n",
    "class Calculator:\n",
    "\n",
    "    def __init__(self,num1,num2):\n",
    "        self.num1=num1\n",
    "        self.num2=num2\n",
    "\n",
    "    def add(self):\n",
    "         return self.num1 + self.num2\n",
    "    def subtract(self):\n",
    "        return self.num2 - self.num1\n",
    "    def multiply(self):\n",
    "        return self.num1 * self.num2\n",
    "    def divide(self):\n",
    "        return self.num2 / self.num1\n",
    "\n",
    "obj = Calculator(10, 94)\n",
    "print(obj.add())\n",
    "print(obj.subtract())\n",
    "print(obj.multiply())\n",
    "print(obj.divide())    "
   ]
  },
  {
   "cell_type": "code",
   "execution_count": 8,
   "id": "c6d91717",
   "metadata": {},
   "outputs": [],
   "source": [
    "#CHALLENGE 3\n",
    "\n",
    "class Student:\n",
    "\n",
    "    def setName(self,name):\n",
    "        self.__name=name\n",
    "        \n",
    "    def getName(self):\n",
    "        return self.__name\n",
    "    \n",
    "    def setRollNumber(self,rollNumber):\n",
    "        self.__rollNumber=rollNumber\n",
    "        \n",
    "    def getRollNumber(self):\n",
    "        return self.__rollNumber"
   ]
  },
  {
   "cell_type": "code",
   "execution_count": 15,
   "id": "835bd1e1",
   "metadata": {},
   "outputs": [
    {
     "name": "stdout",
     "output_type": "stream",
     "text": [
      "Name: Ribin\n",
      "Roll Number: 101\n"
     ]
    }
   ],
   "source": [
    "stud=Student()\n",
    "\n",
    "stud.setName(\"Ribin\")\n",
    "name=stud.getName()\n",
    "\n",
    "stud.setRollNumber(101)\n",
    "rollNumber=stud.getRollNumber()\n",
    "\n",
    "print(\"Name:\",name)\n",
    "print(\"Roll Number:\",rollNumber)"
   ]
  },
  {
   "cell_type": "code",
   "execution_count": 100,
   "id": "46541496",
   "metadata": {},
   "outputs": [],
   "source": [
    "#CHALLENGE 4\n",
    "\n",
    "class Account:\n",
    "\n",
    "    def __init__(self,title=None,balance=0):\n",
    "        self.title=title\n",
    "        self.balance=balance\n",
    "        \n",
    "    \n",
    "class SavingsAccount():\n",
    "\n",
    "    def __init__(self,title=None,balance=0,interestRate=0):\n",
    "        super().__init__(title,balance)\n",
    "        self.interestRate=interestRate\n"
   ]
  },
  {
   "cell_type": "code",
   "execution_count": 101,
   "id": "aa82168b",
   "metadata": {},
   "outputs": [
    {
     "name": "stdout",
     "output_type": "stream",
     "text": [
      "Ashish\n",
      "5000\n"
     ]
    }
   ],
   "source": [
    "acnt=Account(\"Ashish\",5000)\n",
    "print(acnt.title)\n",
    "print(acnt.balance)\n"
   ]
  },
  {
   "cell_type": "code",
   "execution_count": 102,
   "id": "1f044ce3",
   "metadata": {},
   "outputs": [],
   "source": [
    "#CHALLENGE 5\n",
    "\n",
    "class Account:\n",
    "\n",
    "    def __init__(self,title=None,balance=0):\n",
    "        self.title=title\n",
    "        self.balance=balance\n",
    "        \n",
    "    def withdrawal(self, amount):\n",
    "        self.balance-=amount\n",
    "        \n",
    "    def deposit(self, amount):\n",
    "        self.balance+=amount\n",
    "    \n",
    "    def getBalance(self):\n",
    "        return self.balance\n",
    "    \n",
    "    \n",
    "class SavingsAccount(Account):\n",
    "\n",
    "    def __init__(self,title=None,balance=0,interestRate=0):\n",
    "        super().__init__(title,balance)\n",
    "        self.interestRate=interestRate\n",
    "        \n",
    "    def interestAmount(self):\n",
    "        return (self.interestRate*self.balance)/100"
   ]
  },
  {
   "cell_type": "code",
   "execution_count": 103,
   "id": "f8e1df94",
   "metadata": {},
   "outputs": [
    {
     "name": "stdout",
     "output_type": "stream",
     "text": [
      "1500\n"
     ]
    }
   ],
   "source": [
    "acnt=SavingsAccount(\"Ashish\",2000,5)\n",
    "acnt.withdrawal(500)\n",
    "print(acnt.getBalance())"
   ]
  },
  {
   "cell_type": "code",
   "execution_count": 104,
   "id": "d5b5a42b",
   "metadata": {},
   "outputs": [
    {
     "name": "stdout",
     "output_type": "stream",
     "text": [
      "2500\n"
     ]
    }
   ],
   "source": [
    "acnt=SavingsAccount(\"Ashish\",2000,5)\n",
    "acnt.deposit(500)\n",
    "print(acnt.getBalance())"
   ]
  },
  {
   "cell_type": "code",
   "execution_count": 105,
   "id": "7db6d581",
   "metadata": {},
   "outputs": [
    {
     "name": "stdout",
     "output_type": "stream",
     "text": [
      "100.0\n"
     ]
    }
   ],
   "source": [
    "acnt=SavingsAccount(\"Ashish\",2000,5)\n",
    "print(acnt.interestAmount())"
   ]
  },
  {
   "cell_type": "code",
   "execution_count": null,
   "id": "c72517c4",
   "metadata": {},
   "outputs": [],
   "source": [
    "\n",
    "    "
   ]
  },
  {
   "cell_type": "code",
   "execution_count": null,
   "id": "cf60fad2",
   "metadata": {},
   "outputs": [],
   "source": []
  },
  {
   "cell_type": "code",
   "execution_count": null,
   "id": "80d30de8",
   "metadata": {},
   "outputs": [],
   "source": []
  }
 ],
 "metadata": {
  "kernelspec": {
   "display_name": "Python 3 (ipykernel)",
   "language": "python",
   "name": "python3"
  },
  "language_info": {
   "codemirror_mode": {
    "name": "ipython",
    "version": 3
   },
   "file_extension": ".py",
   "mimetype": "text/x-python",
   "name": "python",
   "nbconvert_exporter": "python",
   "pygments_lexer": "ipython3",
   "version": "3.10.9"
  }
 },
 "nbformat": 4,
 "nbformat_minor": 5
}
